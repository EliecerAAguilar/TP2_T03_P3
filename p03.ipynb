{
 "cells": [
  {
   "cell_type": "markdown",
   "source": [
    "Ejecutar la siguiente instrucion si estas trabajando en google colab"
   ],
   "metadata": {
    "collapsed": false,
    "pycharm": {
     "name": "#%% md\n"
    }
   }
  },
  {
   "cell_type": "code",
   "execution_count": null,
   "outputs": [],
   "source": [
    "#!pip install psycopg2-binary"
   ],
   "metadata": {
    "collapsed": false,
    "pycharm": {
     "name": "#%%\n"
    }
   }
  },
  {
   "cell_type": "code",
   "execution_count": null,
   "outputs": [
    {
     "ename": "KeyboardInterrupt",
     "evalue": "",
     "output_type": "error",
     "traceback": [
      "\u001B[1;31m---------------------------------------------------------------------------\u001B[0m",
      "\u001B[1;31mOperationalError\u001B[0m                          Traceback (most recent call last)",
      "Input \u001B[1;32mIn [16]\u001B[0m, in \u001B[0;36m<cell line: 4>\u001B[1;34m()\u001B[0m\n\u001B[0;32m      4\u001B[0m \u001B[38;5;28;01mtry\u001B[39;00m:\n\u001B[1;32m----> 5\u001B[0m     con \u001B[38;5;241m=\u001B[39m \u001B[43mpg2\u001B[49m\u001B[38;5;241;43m.\u001B[39;49m\u001B[43mconnect\u001B[49m\u001B[43m(\u001B[49m\n\u001B[0;32m      6\u001B[0m \u001B[43m    \u001B[49m\u001B[43mhost\u001B[49m\u001B[43m \u001B[49m\u001B[38;5;241;43m=\u001B[39;49m\u001B[43m \u001B[49m\u001B[38;5;124;43m\"\u001B[39;49m\u001B[38;5;124;43mec2-3-222-74-92.compute-1.amazonaws.com\u001B[39;49m\u001B[38;5;124;43m\"\u001B[39;49m\u001B[43m,\u001B[49m\n\u001B[0;32m      7\u001B[0m \u001B[43m    \u001B[49m\u001B[43mdatabase\u001B[49m\u001B[43m \u001B[49m\u001B[38;5;241;43m=\u001B[39;49m\u001B[43m \u001B[49m\u001B[38;5;124;43m\"\u001B[39;49m\u001B[38;5;124;43mddkqm651ptq41g\u001B[39;49m\u001B[38;5;124;43m\"\u001B[39;49m\u001B[43m,\u001B[49m\n\u001B[0;32m      8\u001B[0m \u001B[43m    \u001B[49m\u001B[43muser\u001B[49m\u001B[43m \u001B[49m\u001B[38;5;241;43m=\u001B[39;49m\u001B[43m \u001B[49m\u001B[38;5;124;43m\"\u001B[39;49m\u001B[38;5;124;43mknxfxnexhnvtqx\u001B[39;49m\u001B[38;5;124;43m\"\u001B[39;49m\u001B[43m,\u001B[49m\n\u001B[0;32m      9\u001B[0m \u001B[43m    \u001B[49m\u001B[43mpassword\u001B[49m\u001B[43m \u001B[49m\u001B[38;5;241;43m=\u001B[39;49m\u001B[43m \u001B[49m\u001B[38;5;124;43m\"\u001B[39;49m\u001B[38;5;124;43mfd99404f7a0e7a8c5fe119ab7ab20ef7a0bea0b3c7fe2bb262b0c0e8b6341076\u001B[39;49m\u001B[38;5;124;43m\"\u001B[39;49m\u001B[43m,\u001B[49m\n\u001B[0;32m     10\u001B[0m \u001B[43m    \u001B[49m\u001B[43mport\u001B[49m\u001B[43m \u001B[49m\u001B[38;5;241;43m=\u001B[39;49m\u001B[43m \u001B[49m\u001B[38;5;124;43m\"\u001B[39;49m\u001B[38;5;124;43m5432\u001B[39;49m\u001B[38;5;124;43m\"\u001B[39;49m\n\u001B[0;32m     11\u001B[0m \u001B[43m    \u001B[49m\u001B[43m)\u001B[49m\n\u001B[0;32m     12\u001B[0m     con\u001B[38;5;241m.\u001B[39mautocommit \u001B[38;5;241m=\u001B[39m \u001B[38;5;28;01mTrue\u001B[39;00m\n",
      "File \u001B[1;32m~\\Anaconda3\\envs\\pythonProject\\lib\\site-packages\\psycopg2\\__init__.py:127\u001B[0m, in \u001B[0;36mconnect\u001B[1;34m(dsn, connection_factory, cursor_factory, **kwargs)\u001B[0m\n\u001B[0;32m    126\u001B[0m dsn \u001B[38;5;241m=\u001B[39m _ext\u001B[38;5;241m.\u001B[39mmake_dsn(dsn, \u001B[38;5;241m*\u001B[39m\u001B[38;5;241m*\u001B[39mkwargs)\n\u001B[1;32m--> 127\u001B[0m conn \u001B[38;5;241m=\u001B[39m \u001B[43m_connect\u001B[49m\u001B[43m(\u001B[49m\u001B[43mdsn\u001B[49m\u001B[43m,\u001B[49m\u001B[43m \u001B[49m\u001B[43mconnection_factory\u001B[49m\u001B[38;5;241;43m=\u001B[39;49m\u001B[43mconnection_factory\u001B[49m\u001B[43m,\u001B[49m\u001B[43m \u001B[49m\u001B[38;5;241;43m*\u001B[39;49m\u001B[38;5;241;43m*\u001B[39;49m\u001B[43mkwasync\u001B[49m\u001B[43m)\u001B[49m\n\u001B[0;32m    128\u001B[0m \u001B[38;5;28;01mif\u001B[39;00m cursor_factory \u001B[38;5;129;01mis\u001B[39;00m \u001B[38;5;129;01mnot\u001B[39;00m \u001B[38;5;28;01mNone\u001B[39;00m:\n",
      "\u001B[1;31mOperationalError\u001B[0m: server closed the connection unexpectedly\n\tThis probably means the server terminated abnormally\n\tbefore or while processing the request.\n",
      "\nDuring handling of the above exception, another exception occurred:\n",
      "\u001B[1;31mKeyboardInterrupt\u001B[0m                         Traceback (most recent call last)",
      "Input \u001B[1;32mIn [16]\u001B[0m, in \u001B[0;36m<cell line: 4>\u001B[1;34m()\u001B[0m\n\u001B[0;32m      3\u001B[0m \u001B[38;5;28;01mimport\u001B[39;00m \u001B[38;5;21;01mreprlib\u001B[39;00m \u001B[38;5;28;01mas\u001B[39;00m \u001B[38;5;21;01mrep\u001B[39;00m\n\u001B[0;32m      4\u001B[0m \u001B[38;5;28;01mtry\u001B[39;00m:\n\u001B[1;32m----> 5\u001B[0m     con \u001B[38;5;241m=\u001B[39m \u001B[43mpg2\u001B[49m\u001B[38;5;241;43m.\u001B[39;49m\u001B[43mconnect\u001B[49m\u001B[43m(\u001B[49m\n\u001B[0;32m      6\u001B[0m \u001B[43m    \u001B[49m\u001B[43mhost\u001B[49m\u001B[43m \u001B[49m\u001B[38;5;241;43m=\u001B[39;49m\u001B[43m \u001B[49m\u001B[38;5;124;43m\"\u001B[39;49m\u001B[38;5;124;43mec2-3-222-74-92.compute-1.amazonaws.com\u001B[39;49m\u001B[38;5;124;43m\"\u001B[39;49m\u001B[43m,\u001B[49m\n\u001B[0;32m      7\u001B[0m \u001B[43m    \u001B[49m\u001B[43mdatabase\u001B[49m\u001B[43m \u001B[49m\u001B[38;5;241;43m=\u001B[39;49m\u001B[43m \u001B[49m\u001B[38;5;124;43m\"\u001B[39;49m\u001B[38;5;124;43mddkqm651ptq41g\u001B[39;49m\u001B[38;5;124;43m\"\u001B[39;49m\u001B[43m,\u001B[49m\n\u001B[0;32m      8\u001B[0m \u001B[43m    \u001B[49m\u001B[43muser\u001B[49m\u001B[43m \u001B[49m\u001B[38;5;241;43m=\u001B[39;49m\u001B[43m \u001B[49m\u001B[38;5;124;43m\"\u001B[39;49m\u001B[38;5;124;43mknxfxnexhnvtqx\u001B[39;49m\u001B[38;5;124;43m\"\u001B[39;49m\u001B[43m,\u001B[49m\n\u001B[0;32m      9\u001B[0m \u001B[43m    \u001B[49m\u001B[43mpassword\u001B[49m\u001B[43m \u001B[49m\u001B[38;5;241;43m=\u001B[39;49m\u001B[43m \u001B[49m\u001B[38;5;124;43m\"\u001B[39;49m\u001B[38;5;124;43mfd99404f7a0e7a8c5fe119ab7ab20ef7a0bea0b3c7fe2bb262b0c0e8b6341076\u001B[39;49m\u001B[38;5;124;43m\"\u001B[39;49m\u001B[43m,\u001B[49m\n\u001B[0;32m     10\u001B[0m \u001B[43m    \u001B[49m\u001B[43mport\u001B[49m\u001B[43m \u001B[49m\u001B[38;5;241;43m=\u001B[39;49m\u001B[43m \u001B[49m\u001B[38;5;124;43m\"\u001B[39;49m\u001B[38;5;124;43m5432\u001B[39;49m\u001B[38;5;124;43m\"\u001B[39;49m\n\u001B[0;32m     11\u001B[0m \u001B[43m    \u001B[49m\u001B[43m)\u001B[49m\n\u001B[0;32m     12\u001B[0m     con\u001B[38;5;241m.\u001B[39mautocommit \u001B[38;5;241m=\u001B[39m \u001B[38;5;28;01mTrue\u001B[39;00m\n\u001B[0;32m     13\u001B[0m     cursor \u001B[38;5;241m=\u001B[39m con\u001B[38;5;241m.\u001B[39mcursor()\n",
      "\u001B[1;31mKeyboardInterrupt\u001B[0m: "
     ]
    }
   ],
   "source": [
    "import psycopg2 as pg2\n",
    "from prettytable import from_db_cursor, PrettyTable\n",
    "import reprlib as rep\n",
    "try:\n",
    "    con = pg2.connect(\n",
    "    host = \"ec2-3-222-74-92.compute-1.amazonaws.com\",\n",
    "    database = \"ddkqm651ptq41g\",\n",
    "    user = \"knxfxnexhnvtqx\",\n",
    "    password = \"fd99404f7a0e7a8c5fe119ab7ab20ef7a0bea0b3c7fe2bb262b0c0e8b6341076\",\n",
    "    port = \"5432\"\n",
    "    )\n",
    "    con.autocommit = True\n",
    "    cursor = con.cursor()\n",
    "    print(\"Verifique el SRID y el proj4text de la tabla PAN_pais.\")\n",
    "    cursor.execute(\"\"\"select * from spatial_ref_sys where srid = '5472';\"\"\")\n",
    "    rows = cursor.fetchall()\n",
    "    r = rep.Repr()\n",
    "    r.maxlist = 5       # max elements displayed for lists\n",
    "    r.maxstring = 20    # max characters displayed for strings\n",
    "    print(\"*\"*100)\n",
    "    print()\n",
    "    result_values = r.repr(rows)\n",
    "    print(\"*\"*100)\n",
    "\n",
    "    # print(\"lenght = \",len(rows))\n",
    "    result =  PrettyTable()\n",
    "    result_column = [\"srid\",\"auth_name\",\"auth_srid\",\"srtext\",\"proj4text\"]\n",
    "    result.add_column(result_column[0],result_values[0])\n",
    "    result.add_column(result_column[1],result_values[1])\n",
    "    result.add_column(result_column[2],result_values[2])\n",
    "    result.add_column(result_column[3],result_values[3])\n",
    "    result.add_column(result_column[4],result_values[4])\n",
    "    # result = from_db_cursor(cursor)\n",
    "    print(result)\n",
    "\n",
    "    print(\"¿Cuantos tipos de caminos existen en la tabla Pan_roads? ¿Cuántos hay para cada tipo? (agrupe con Groupby)\")\n",
    "    cursor.execute(\"\"\"select count(rtt_descri) as numero_caminos, rtt_descri as tipo_camino from pan_roads group by rtt_descri;\"\"\")\n",
    "    result = from_db_cursor(cursor)\n",
    "    print(result)\n",
    "\n",
    "    print(\"Liste la información de aquellos distritos, de la tabla Pan_adm3, que estén en comarca indígena o los que están en o cerca de un cuerpo de agua\")\n",
    "    cursor.execute(\"\"\"select * from pan_adm3 where type_3 = 'Comarca Indígena' or type_3 = 'Water body'\"\"\")\n",
    "    result = from_db_cursor(cursor)\n",
    "    print(result)\n",
    "\n",
    "    print(\"Calcule el área en km 2 totales, usando ST_Area, para todas las provincias, ordene sus resultados de manera descendente. Compare sus resultados con la tabla en https://en.wikipedia.org/wiki/Provinces_of_Panama\")\n",
    "    cursor.execute(\"\"\"select sum(ST_Area(geom::geography))/1000000 Area, name_1 as provincia from pan_adm2 group by name_1 order by Area desc;\"\"\")\n",
    "    result = from_db_cursor(cursor)\n",
    "    print(result)\n",
    "\n",
    "\n",
    "    print(\"Provea la suma total en km de todos los segmentos de carretera que están en la tabla Pan_roads\")\n",
    "    cursor.execute(\"\"\"select sum(ST_Length(geom::geography))/1000 km_totales from pan_roads;\"\"\")\n",
    "    result = from_db_cursor(cursor)\n",
    "    print(result)\n",
    "\n",
    "\n",
    "    print(\"Liste 5 distritos que contienen aros (rings) concéntricos dentro de su área.\")\n",
    "    cursor.execute(\"\"\"select ST_NRings(geom) as NRings, name_2 from pan_adm2 as distrito order by NRings desc limit 5;\"\"\")\n",
    "    result = from_db_cursor(cursor)\n",
    "    print(result)\n",
    "\n",
    "\n",
    "\n",
    "    con.close()\n",
    "except Exception as error:\n",
    "    print(error)"
   ],
   "metadata": {
    "collapsed": false,
    "pycharm": {
     "name": "#%%\n"
    }
   }
  },
  {
   "cell_type": "code",
   "execution_count": null,
   "outputs": [],
   "source": [],
   "metadata": {
    "collapsed": false,
    "pycharm": {
     "name": "#%%\n"
    }
   }
  }
 ],
 "metadata": {
  "kernelspec": {
   "display_name": "Python 3",
   "language": "python",
   "name": "python3"
  },
  "language_info": {
   "codemirror_mode": {
    "name": "ipython",
    "version": 2
   },
   "file_extension": ".py",
   "mimetype": "text/x-python",
   "name": "python",
   "nbconvert_exporter": "python",
   "pygments_lexer": "ipython2",
   "version": "2.7.6"
  }
 },
 "nbformat": 4,
 "nbformat_minor": 0
}