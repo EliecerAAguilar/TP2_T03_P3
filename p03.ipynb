{
 "cells": [
  {
   "cell_type": "markdown",
   "source": [
    "Ejecutar la siguiente instrucion si estas trabajando en google colab"
   ],
   "metadata": {
    "collapsed": false,
    "pycharm": {
     "name": "#%% md\n"
    }
   }
  },
  {
   "cell_type": "code",
   "execution_count": null,
   "outputs": [],
   "source": [
    "#!pip install psycopg2-binary"
   ],
   "metadata": {
    "collapsed": false,
    "pycharm": {
     "name": "#%%\n"
    }
   }
  },
  {
   "cell_type": "code",
   "execution_count": 2,
   "outputs": [
    {
     "name": "stdout",
     "output_type": "stream",
     "text": [
      "Verifique el SRID y el proj4text de la tabla PAN_pais.\n",
      "+------+-----------+-----------+------------------------------+------------------------------+\n",
      "| srid | auth_name | auth_srid |            srtext            |          proj4text           |\n",
      "+------+-----------+-----------+------------------------------+------------------------------+\n",
      "| 5472 |    EPSG   |    5472   | 'PROJCS[\"Pan...SG\",\"5472\"]]' | '+proj=poly ...62 +no_defs ' |\n",
      "+------+-----------+-----------+------------------------------+------------------------------+\n",
      "¿Cuantos tipos de caminos existen en la tabla Pan_roads? ¿Cuántos hay para cada tipo? (agrupe con Groupby)\n",
      "+----------------+-----------------+\n",
      "| numero_caminos |   tipo_camino   |\n",
      "+----------------+-----------------+\n",
      "|       13       |     Unknown     |\n",
      "|      124       |  Primary Route  |\n",
      "|      229       | Secondary Route |\n",
      "+----------------+-----------------+\n",
      "Liste la información de aquellos distritos, de la tabla Pan_adm3, que estén en comarca indígena o los que están en o cerca de un cuerpo de agua\n",
      "+-----+-----+--------+----------+--------------+------+---------------+--------------------+------------------+\n",
      "| gid | iso |  pais  | cod_prov |  provincia   | id_2 |    distrito   |       lugar        |       tipo       |\n",
      "+-----+-----+--------+----------+--------------+------+---------------+--------------------+------------------+\n",
      "| 176 | PAN | Panama |   4.0    |    Colón     | 26.0 |   Lago Gatún  |     Waterbody      |    Water body    |\n",
      "| 208 | PAN | Panama |   5.0    |    Darién    | 30.0 |    Pinogana   |  Kuna de Wargandí  | Comarca Indígena |\n",
      "| 453 | PAN | Panama |   11.0   | Panamá Oeste | 59.0 |   Lago Gatún  |     Waterbody      |    Water body    |\n",
      "| 476 | PAN | Panama |   12.0   |    Panamá    | 63.0 |     Chepo     | Kuna de Madungandí | Comarca Indígena |\n",
      "| 485 | PAN | Panama |   12.0   |    Panamá    | 65.0 | Lago Alajuela |     Waterbody      |    Water body    |\n",
      "| 486 | PAN | Panama |   12.0   |    Panamá    | 66.0 |  Lago Bayano  |     Waterbody      |    Water body    |\n",
      "+-----+-----+--------+----------+--------------+------+---------------+--------------------+------------------+\n",
      "Calcule el área en km 2 totales, usando ST_Area, para todas las provincias, ordene sus resultados de manera descendente. Compare sus resultados con la tabla en https://en.wikipedia.org/wiki/Provinces_of_Panama\n",
      "+--------------------+----------------+\n",
      "|        area        |   provincia    |\n",
      "+--------------------+----------------+\n",
      "| 12029.650425374311 |     Darién     |\n",
      "| 10908.834681292583 |    Veraguas    |\n",
      "| 8787.823875431804  |     Panamá     |\n",
      "| 6623.837738149248  |    Chiriquí    |\n",
      "| 6605.522083639433  |  Ngöbe Buglé   |\n",
      "| 4907.913158602315  |     Coclé      |\n",
      "| 4680.961137785633  |     Colón      |\n",
      "|  4675.22638887211  | Bocas del Toro |\n",
      "| 4211.385825115455  |     Emberá     |\n",
      "| 3795.5640650575506 |   Los Santos   |\n",
      "| 3046.124905672322  |  Panamá Oeste  |\n",
      "| 2504.912991223913  |   Kuna Yala    |\n",
      "| 2326.1235599686875 |    Herrera     |\n",
      "+--------------------+----------------+\n",
      "Provea la suma total en km de todos los segmentos de carretera que están en la tabla Pan_roads\n",
      "+--------------------+\n",
      "|     km_totales     |\n",
      "+--------------------+\n",
      "| 4497.1401649515465 |\n",
      "+--------------------+\n",
      "Liste 5 distritos que contienen aros (rings) concéntricos dentro de su área.\n",
      "+--------+----------------+\n",
      "| nrings |     name_2     |\n",
      "+--------+----------------+\n",
      "|  110   |   Kuna Yala    |\n",
      "|   76   | Bocas del Toro |\n",
      "|   65   |   Lago Gatún   |\n",
      "|   62   |     Colón      |\n",
      "|   60   |     Balboa     |\n",
      "+--------+----------------+\n"
     ]
    }
   ],
   "source": [
    "import psycopg2 as pg2\n",
    "from prettytable import from_db_cursor, PrettyTable\n",
    "import reprlib as rep\n",
    "try:\n",
    "    con = pg2.connect(\n",
    "    host = \"ec2-3-222-74-92.compute-1.amazonaws.com\",\n",
    "    database = \"ddkqm651ptq41g\",\n",
    "    user = \"knxfxnexhnvtqx\",\n",
    "    password = \"fd99404f7a0e7a8c5fe119ab7ab20ef7a0bea0b3c7fe2bb262b0c0e8b6341076\",\n",
    "    port = \"5432\"\n",
    "    )\n",
    "    con.autocommit = True\n",
    "    cursor = con.cursor()\n",
    "    print(\"Verifique el SRID y el proj4text de la tabla PAN_pais.\")\n",
    "    cursor.execute(\"\"\"select * from spatial_ref_sys where srid = '5472';\"\"\")\n",
    "    rows = cursor.fetchall()\n",
    "    result = []\n",
    "    for row in rows:\n",
    "      for x in row:\n",
    "        result.append(str(x))\n",
    "\n",
    "    r = rep.Repr()\n",
    "    r.maxlist = 1       # max elements displayed for lists\n",
    "    r.maxstring = 28    # max characters displayed for strings\n",
    "\n",
    "    result2 =  PrettyTable()\n",
    "    result2.field_names = [\"srid\",\"auth_name\",\"auth_srid\",\"srtext\",\"proj4text\"]\n",
    "    result2.add_row([result[0],result[1],result[2],r.repr(result[3]),r.repr(result[4])])\n",
    "    print(result2)\n",
    "\n",
    "\n",
    "    print(\"¿Cuantos tipos de caminos existen en la tabla Pan_roads? ¿Cuántos hay para cada tipo? (agrupe con Groupby)\")\n",
    "    cursor.execute(\"\"\"select count(rtt_descri) as numero_caminos, rtt_descri as tipo_camino from pan_roads group by rtt_descri;\"\"\")\n",
    "    result = from_db_cursor(cursor)\n",
    "    print(result)\n",
    "\n",
    "    print(\"Liste la información de aquellos distritos, de la tabla Pan_adm3, que estén en comarca indígena o los que están en o cerca de un cuerpo de agua\")\n",
    "    cursor.execute(\"\"\"select gid,iso, name_0 as pais,id_1 as cod_prov, name_1 as provincia,id_2,name_2 as distrito,name_3 as lugar, type_3 as tipo  from pan_adm3 where type_3 like 'Comarca Indígena' or type_3 like 'Water body';\"\"\")\n",
    "    result = from_db_cursor(cursor)\n",
    "    print(result)\n",
    "\n",
    "    print(\"Calcule el área en km 2 totales, usando ST_Area, para todas las provincias, ordene sus resultados de manera descendente. Compare sus resultados con la tabla en https://en.wikipedia.org/wiki/Provinces_of_Panama\")\n",
    "    cursor.execute(\"\"\"select sum(ST_Area(geom::geography))/1000000 Area, name_1 as provincia from pan_adm2 group by name_1 order by Area desc;\"\"\")\n",
    "    result = from_db_cursor(cursor)\n",
    "    print(result)\n",
    "\n",
    "\n",
    "    print(\"Provea la suma total en km de todos los segmentos de carretera que están en la tabla Pan_roads\")\n",
    "    cursor.execute(\"\"\"select sum(ST_Length(geom::geography))/1000 km_totales from pan_roads;\"\"\")\n",
    "    result = from_db_cursor(cursor)\n",
    "    print(result)\n",
    "\n",
    "\n",
    "    print(\"Liste 5 distritos que contienen aros (rings) concéntricos dentro de su área.\")\n",
    "    cursor.execute(\"\"\"select ST_NRings(geom) as NRings, name_2 from pan_adm2 as distrito order by NRings desc limit 5;\"\"\")\n",
    "    result = from_db_cursor(cursor)\n",
    "    print(result)\n",
    "\n",
    "\n",
    "\n",
    "    con.close()\n",
    "except Exception as error:\n",
    "    print(error)"
   ],
   "metadata": {
    "collapsed": false,
    "pycharm": {
     "name": "#%%\n"
    }
   }
  },
  {
   "cell_type": "code",
   "execution_count": null,
   "outputs": [],
   "source": [],
   "metadata": {
    "collapsed": false,
    "pycharm": {
     "name": "#%%\n"
    }
   }
  }
 ],
 "metadata": {
  "kernelspec": {
   "display_name": "Python 3",
   "language": "python",
   "name": "python3"
  },
  "language_info": {
   "codemirror_mode": {
    "name": "ipython",
    "version": 2
   },
   "file_extension": ".py",
   "mimetype": "text/x-python",
   "name": "python",
   "nbconvert_exporter": "python",
   "pygments_lexer": "ipython2",
   "version": "2.7.6"
  }
 },
 "nbformat": 4,
 "nbformat_minor": 0
}